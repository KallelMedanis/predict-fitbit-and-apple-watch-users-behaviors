{
 "cells": [
  {
   "cell_type": "markdown",
   "id": "437449be",
   "metadata": {},
   "source": [
    "# 1. Exploratory Data Analysis\n",
    "## Checklist de base\n",
    "#### Analyse de Forme :\n",
    "- **variable target** : activity\n",
    "- **lignes et colonnes** : 6264, 20\n",
    "- **types de variables** : qualitatives : 2, quantitatives : 18\n",
    "- Y'a pas de valeurs manquantes\n",
    "#### Analyse de Fond :\n",
    "- **Visualisation de la target** :\n",
    "    - 22% Lying\n",
    "    - 18% Running 7 METs\n",
    "    - 16% Running 5 METs\n",
    "    - 15% Running 3 METs\n",
    "    - 15% Sitting\n",
    "    - 14% Self Pace walk\n",
    "- **Signification des variables** :\n",
    "    - age\n",
    "    - gender : binarie(0:femme,1;homme)\n",
    "    - height : cm\n",
    "    - weight : kg\n",
    "    - steps  : steps/mins\n",
    "    - calories\n",
    "    - distance : en metres\n",
    "    - entropy_heart : entropie du rythme cardiaque\n",
    "    - entropy_setps : entropie des pas\n",
    "    - resting_heart : 10e centile du coeur en repos\n",
    "    - corr_heart_steps : Correlation rythme cardiaque/pas\n",
    "    - intensity_karvonen : intensité \n",
    "    - sd_norm_heart : Écart type de la fréquence cardiaque\n",
    "    - device\n",
    "    - activity\n",
    "  *Pour la variable activity on va éliminer l'activité \"Lying\" et mettre toutes les activités \"Running 7 METs\" , \"Running 5 METs\" et \"Running 3 METs\" pour faciliter l'analyse des données\n",
    "- **Relation Variables / Target** :\n",
    "    - target / hear_rate,calories,entropy_heart,corr_heart_steps,intensity_karvonen : les taux de hear_rate,calories,entropy_heart,corr_heart_steps,intensity_karvonen semblent liés a l'activité -> hypothese a tester\n",
    "    - target/gender,height,weight,steps,distance,entropy_setps,resting_heart,norm_heart,sd_norm_heart\tsteps_times_distance,device :A ce qu'il parait l'activité ne dépend pas de ces variables\n",
    "## Analyse plus détaillée\n",
    "\n",
    "- **Relation Variables / Variables** :\n",
    "    - une forte corrélation entre:\n",
    "    *norm_heart et intensity_karvonen\n",
    "    *entre intensity_karvonen et heart_rate\n",
    "    \n",
    "### hypotheses nulle du test d'ANOVA: \n",
    "\n",
    "    -Les activités des individus ont des steps,hear_rate,calories,entropy_heart,entropy_setps,corr_heart_steps,\n",
    "    norm_heart,intensity_karvonen,sd_norm_heart ignificativement différents\n",
    "    "
   ]
  },
  {
   "cell_type": "code",
   "execution_count": null,
   "id": "54c4c089",
   "metadata": {},
   "outputs": [],
   "source": []
  }
 ],
 "metadata": {
  "kernelspec": {
   "display_name": "Python 3 (ipykernel)",
   "language": "python",
   "name": "python3"
  },
  "language_info": {
   "codemirror_mode": {
    "name": "ipython",
    "version": 3
   },
   "file_extension": ".py",
   "mimetype": "text/x-python",
   "name": "python",
   "nbconvert_exporter": "python",
   "pygments_lexer": "ipython3",
   "version": "3.9.7"
  }
 },
 "nbformat": 4,
 "nbformat_minor": 5
}
